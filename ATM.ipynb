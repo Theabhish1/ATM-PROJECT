{
  "cells": [
    {
      "cell_type": "code",
      "execution_count": null,
      "metadata": {
        "colab": {
          "base_uri": "https://localhost:8080/"
        },
        "id": "uWnlPHwdF0eJ",
        "outputId": "3fac8ad9-d2f4-4236-a459-862fc4c59138"
      },
      "outputs": [
        {
          "output_type": "stream",
          "name": "stdout",
          "text": [
            "\n",
            "          **** Welcome to WORLD ATM Machine Simulator****\n",
            "        \n"
          ]
        }
      ],
      "source": [
        "print('''\n",
        "          **** Welcome to WORLD ATM Machine Simulator****\n",
        "        ''')\n",
        "def get_input_with_digit_limit(limit):\n",
        "    while True:\n",
        "        pin = input(f\"Enter a number with {limit} digits: \")\n",
        "        if pin.isdigit() and len(pin) == limit:\n",
        "            return pin\n",
        "        else:\n",
        "            print(f\"Invalid input. Please enter a number with {limit} digits.\")\n",
        "\n",
        "limit = 4\n",
        "user_input = get_input_with_digit_limit(limit)\n",
        "print(f\"You entered a valid {limit}-digit number: {user_input}\")\n",
        "\n",
        "def atm_simulation():\n",
        "  balance=50000\n",
        "  pin=('Enter Your Pin')\n",
        "  print('''\n",
        "           Choose from options what you want to do :\n",
        "           1) Check Balance\n",
        "           2) Withdraw Amount\n",
        "           3) Deposit Money\n",
        "           4) Exit from the ATM\n",
        "        ''')\n",
        "  choose=int(input(\"Select Your Transaction from the above options: \"))\n",
        "\n",
        "  if choose==1:\n",
        "    print(f' Available A/C Balance is {balance}')\n",
        "    print('Thanks for using World Bank ATM')\n",
        "  elif choose==2:\n",
        "    withdraw=int(input('Enter the withdrawl Amount: '))\n",
        "    if withdraw<=balance:\n",
        "      balance-=withdraw\n",
        "      print(f'Your available balance is :{balance}')\n",
        "      print('Thanks for using World Bank ATM')\n",
        "    else:\n",
        "      print('Innsufficient Balance,entered amount is greater than the available balance')\n",
        "      print('Thanks for using World Bank ATM')\n",
        "  elif choose==3:\n",
        "      amount=int(input('Enter the Deposit Amount: '))\n",
        "      balance+=amount\n",
        "      print(f'New Balance is :{balance}')\n",
        "      print('Thanks for using World Bank ATM')\n",
        "  elif choose==4:\n",
        "     print('Thanks for using World Bank ATM')\n",
        "     exit()\n",
        "  else:\n",
        "    print('No Selected transaction')\n",
        "    exit()\n",
        "  return\n",
        "\n",
        "if __name__ ==\"__main__\":\n",
        "  atm_simulation()"
      ]
    },
    {
      "cell_type": "code",
      "source": [],
      "metadata": {
        "id": "3qX3r6YMuyXi"
      },
      "execution_count": null,
      "outputs": []
    }
  ],
  "metadata": {
    "colab": {
      "provenance": []
    },
    "kernelspec": {
      "display_name": "Python 3",
      "name": "python3"
    },
    "language_info": {
      "name": "python"
    }
  },
  "nbformat": 4,
  "nbformat_minor": 0
}